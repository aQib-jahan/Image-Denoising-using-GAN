{
 "cells": [
  {
   "cell_type": "markdown",
   "metadata": {},
   "source": [
    "# **Importing Libraries**"
   ]
  },
  {
   "cell_type": "code",
   "execution_count": null,
   "metadata": {},
   "outputs": [],
   "source": [
    "import numpy as np\n",
    "from os import listdir\n",
    "from tensorflow.keras.preprocessing.image import img_to_array\n",
    "from tensorflow.keras.preprocessing.image import load_img\n",
    "from numpy import expand_dims\n",
    "from matplotlib import pyplot\n",
    "from numpy import squeeze\n",
    "from skimage.metrics import structural_similarity as ssim\n",
    "from skimage.metrics import peak_signal_noise_ratio as psnr\n",
    "from deblurgan.model import generator_model"
   ]
  },
  {
   "cell_type": "markdown",
   "metadata": {},
   "source": [
    "# **Image Loading Function**"
   ]
  },
  {
   "cell_type": "code",
   "execution_count": null,
   "metadata": {},
   "outputs": [],
   "source": [
    "def load_image(filename, size=(256, 256)):\n",
    "  # load image with the preferred size\n",
    "  pixels = load_img(filename, grayscale = False, target_size=size)\n",
    "  \n",
    "  # convert to numpy array\n",
    "  pixels = img_to_array(pixels)\n",
    "  \n",
    "  # scale from [0,255] to [-1,1]\n",
    "  pixels = (pixels - 127.5) / 127.5\n",
    "  \n",
    "  # reshape to 1 sample\n",
    "  pixels = expand_dims(pixels, 0)\n",
    "  \n",
    "  return pixels"
   ]
  },
  {
   "cell_type": "code",
   "execution_count": null,
   "metadata": {},
   "outputs": [],
   "source": [
    "# Load the model\n",
    "model = generator_model()\n",
    "print(\"model loaded\")\n",
    "\n",
    "# load weights\n",
    "model.load_weights('../weights/generator_3760.h5')\n",
    "\n",
    "# load source image\n",
    "test_dir = '../Images/Test/A/'\n",
    "comp_dir = '../Images/Test/B/'\n",
    "\n",
    "img_num = listdir(test_dir)\n",
    "\n",
    "avg_psnr = []\n",
    "avg_ssim = []\n",
    "\n",
    "for i in img_num:\n",
    "\tsrc_image = load_image(test_dir + i)\n",
    "\tcomp_image = load_image(comp_dir + i)\n",
    "\t#print('Loaded Image: ', src_image.shape)\n",
    "\t\n",
    "\t# generate image from source\n",
    "\tgen_image = model.predict(src_image)\n",
    "\t#print('image generated ', gen_image.shape)\n",
    "\t\n",
    "\t# metrics before scaling\n",
    "\tssim = ssim(gen_image[0], comp_image[0], multichannel = True)\n",
    "\tpsnr = psnr(comp_image[0], gen_image[0])  \n",
    "\tavg_psnr.append(psnr)\n",
    "\tavg_ssim.append(ssim) \n",
    "  \n",
    "\t# scale from [-1,1] to [0,1]\n",
    "\tcomp_image[0] = (comp_image[0] - np.amin(comp_image[0])) / (np.amax(comp_image[0])-np.amin(comp_image[0]))\n",
    "\tgen_image[0] = (gen_image[0] - np.amin(gen_image[0])) / (np.amax(gen_image[0])-np.amin(gen_image[0]))\n",
    "\t\n",
    "\t# plot the image\n",
    "\tpyplot.imshow(gen_image[0].squeeze(), cmap = 'gray')\n",
    "\tpyplot.title('ssim: ' + str(ssim) + '\\n' + 'psnr: ' + str(psnr))\n",
    "\t#pyplot.axis('off')\n",
    "\t\n",
    "\t# save the image\n",
    "\tfilename = '../Images/Generated/genrated_' + i\n",
    "\tpyplot.imsave(filename, gen_image[0])\n",
    "\tpyplot.show()\n",
    "\t#pyplot.close()"
   ]
  },
  {
   "cell_type": "code",
   "execution_count": null,
   "metadata": {},
   "outputs": [],
   "source": [
    "print(\"Average PSNR: \", np.mean(avg_psnr))\n",
    "print(\"Average SSIM: \", np.mean(avg_ssim))"
   ]
  }
 ],
 "metadata": {
  "language_info": {
   "name": "python"
  },
  "orig_nbformat": 4
 },
 "nbformat": 4,
 "nbformat_minor": 2
}
